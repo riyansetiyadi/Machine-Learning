{
 "cells": [
  {
   "cell_type": "code",
   "execution_count": null,
   "metadata": {
    "colab": {},
    "colab_type": "code",
    "id": "r4TgH3KvMlsR"
   },
   "outputs": [],
   "source": [
    "# link unduh dataset https://www.kaggle.com/zarajamshaid/language-identification-datasst/\n",
    "\n",
    "import pandas as pd\n",
    "df = pd.read_csv('/content/dataset.csv')"
   ]
  },
  {
   "cell_type": "code",
   "execution_count": null,
   "metadata": {
    "colab": {
     "base_uri": "https://localhost:8080/",
     "height": 204
    },
    "colab_type": "code",
    "id": "QmqfMbWgQt9z",
    "outputId": "1a50ba68-9908-49f0-a928-1edabb9a018b"
   },
   "outputs": [
    {
     "data": {
      "text/html": [
       "<div>\n",
       "<style scoped>\n",
       "    .dataframe tbody tr th:only-of-type {\n",
       "        vertical-align: middle;\n",
       "    }\n",
       "\n",
       "    .dataframe tbody tr th {\n",
       "        vertical-align: top;\n",
       "    }\n",
       "\n",
       "    .dataframe thead th {\n",
       "        text-align: right;\n",
       "    }\n",
       "</style>\n",
       "<table border=\"1\" class=\"dataframe\">\n",
       "  <thead>\n",
       "    <tr style=\"text-align: right;\">\n",
       "      <th></th>\n",
       "      <th>Text</th>\n",
       "      <th>language</th>\n",
       "    </tr>\n",
       "  </thead>\n",
       "  <tbody>\n",
       "    <tr>\n",
       "      <th>0</th>\n",
       "      <td>klement gottwaldi surnukeha palsameeriti ning ...</td>\n",
       "      <td>Estonian</td>\n",
       "    </tr>\n",
       "    <tr>\n",
       "      <th>1</th>\n",
       "      <td>sebes joseph pereira thomas  på eng the jesuit...</td>\n",
       "      <td>Swedish</td>\n",
       "    </tr>\n",
       "    <tr>\n",
       "      <th>2</th>\n",
       "      <td>ถนนเจริญกรุง อักษรโรมัน thanon charoen krung เ...</td>\n",
       "      <td>Thai</td>\n",
       "    </tr>\n",
       "    <tr>\n",
       "      <th>3</th>\n",
       "      <td>விசாகப்பட்டினம் தமிழ்ச்சங்கத்தை இந்துப் பத்திர...</td>\n",
       "      <td>Tamil</td>\n",
       "    </tr>\n",
       "    <tr>\n",
       "      <th>4</th>\n",
       "      <td>de spons behoort tot het geslacht haliclona en...</td>\n",
       "      <td>Dutch</td>\n",
       "    </tr>\n",
       "  </tbody>\n",
       "</table>\n",
       "</div>"
      ],
      "text/plain": [
       "                                                Text  language\n",
       "0  klement gottwaldi surnukeha palsameeriti ning ...  Estonian\n",
       "1  sebes joseph pereira thomas  på eng the jesuit...   Swedish\n",
       "2  ถนนเจริญกรุง อักษรโรมัน thanon charoen krung เ...      Thai\n",
       "3  விசாகப்பட்டினம் தமிழ்ச்சங்கத்தை இந்துப் பத்திர...     Tamil\n",
       "4  de spons behoort tot het geslacht haliclona en...     Dutch"
      ]
     },
     "execution_count": 93,
     "metadata": {
      "tags": []
     },
     "output_type": "execute_result"
    }
   ],
   "source": [
    "df.head()"
   ]
  },
  {
   "cell_type": "code",
   "execution_count": null,
   "metadata": {
    "colab": {},
    "colab_type": "code",
    "id": "NKBeyv-hSWLw"
   },
   "outputs": [],
   "source": [
    "# hanya mengambil 5 kelas bahasa\n",
    "\n",
    "df_english = df[df.language == 'English']\n",
    "df_portugese = df[df.language == 'Portugese']\n",
    "df_french = df[df.language == 'French']\n",
    "df_spanish = df[df.language == 'Spanish']\n",
    "df_indonesian = df[df.language == 'Indonesian']\n",
    "\n",
    "df = pd.concat([df_english, df_portugese, df_french, df_spanish, df_indonesian])"
   ]
  },
  {
   "cell_type": "code",
   "execution_count": null,
   "metadata": {
    "colab": {
     "base_uri": "https://localhost:8080/",
     "height": 419
    },
    "colab_type": "code",
    "id": "q-JEvvdChndk",
    "outputId": "54429fa4-1d09-4396-ebf3-5086fef26d84"
   },
   "outputs": [
    {
     "data": {
      "text/html": [
       "<div>\n",
       "<style scoped>\n",
       "    .dataframe tbody tr th:only-of-type {\n",
       "        vertical-align: middle;\n",
       "    }\n",
       "\n",
       "    .dataframe tbody tr th {\n",
       "        vertical-align: top;\n",
       "    }\n",
       "\n",
       "    .dataframe thead th {\n",
       "        text-align: right;\n",
       "    }\n",
       "</style>\n",
       "<table border=\"1\" class=\"dataframe\">\n",
       "  <thead>\n",
       "    <tr style=\"text-align: right;\">\n",
       "      <th></th>\n",
       "      <th>Text</th>\n",
       "      <th>English</th>\n",
       "      <th>French</th>\n",
       "      <th>Indonesian</th>\n",
       "      <th>Portugese</th>\n",
       "      <th>Spanish</th>\n",
       "    </tr>\n",
       "  </thead>\n",
       "  <tbody>\n",
       "    <tr>\n",
       "      <th>37</th>\n",
       "      <td>in  johnson was awarded an american institute ...</td>\n",
       "      <td>1</td>\n",
       "      <td>0</td>\n",
       "      <td>0</td>\n",
       "      <td>0</td>\n",
       "      <td>0</td>\n",
       "    </tr>\n",
       "    <tr>\n",
       "      <th>40</th>\n",
       "      <td>bussy-saint-georges has built its identity on ...</td>\n",
       "      <td>1</td>\n",
       "      <td>0</td>\n",
       "      <td>0</td>\n",
       "      <td>0</td>\n",
       "      <td>0</td>\n",
       "    </tr>\n",
       "    <tr>\n",
       "      <th>76</th>\n",
       "      <td>minnesotas state parks are spread across the s...</td>\n",
       "      <td>1</td>\n",
       "      <td>0</td>\n",
       "      <td>0</td>\n",
       "      <td>0</td>\n",
       "      <td>0</td>\n",
       "    </tr>\n",
       "    <tr>\n",
       "      <th>90</th>\n",
       "      <td>nordahl road is a station served by north coun...</td>\n",
       "      <td>1</td>\n",
       "      <td>0</td>\n",
       "      <td>0</td>\n",
       "      <td>0</td>\n",
       "      <td>0</td>\n",
       "    </tr>\n",
       "    <tr>\n",
       "      <th>97</th>\n",
       "      <td>a talk by takis fotopoulos about the internati...</td>\n",
       "      <td>1</td>\n",
       "      <td>0</td>\n",
       "      <td>0</td>\n",
       "      <td>0</td>\n",
       "      <td>0</td>\n",
       "    </tr>\n",
       "    <tr>\n",
       "      <th>...</th>\n",
       "      <td>...</td>\n",
       "      <td>...</td>\n",
       "      <td>...</td>\n",
       "      <td>...</td>\n",
       "      <td>...</td>\n",
       "      <td>...</td>\n",
       "    </tr>\n",
       "    <tr>\n",
       "      <th>21906</th>\n",
       "      <td>walaupun pada mulanya berhasil menurunkan ting...</td>\n",
       "      <td>0</td>\n",
       "      <td>0</td>\n",
       "      <td>1</td>\n",
       "      <td>0</td>\n",
       "      <td>0</td>\n",
       "    </tr>\n",
       "    <tr>\n",
       "      <th>21912</th>\n",
       "      <td>namun dalam usia  hari akhirnya meninggal duni...</td>\n",
       "      <td>0</td>\n",
       "      <td>0</td>\n",
       "      <td>1</td>\n",
       "      <td>0</td>\n",
       "      <td>0</td>\n",
       "    </tr>\n",
       "    <tr>\n",
       "      <th>21922</th>\n",
       "      <td>dewan wali terlibat dalam proses legislasi den...</td>\n",
       "      <td>0</td>\n",
       "      <td>0</td>\n",
       "      <td>1</td>\n",
       "      <td>0</td>\n",
       "      <td>0</td>\n",
       "    </tr>\n",
       "    <tr>\n",
       "      <th>21954</th>\n",
       "      <td>ordo ekuestrian makam kudus yerusalem bahasa l...</td>\n",
       "      <td>0</td>\n",
       "      <td>0</td>\n",
       "      <td>1</td>\n",
       "      <td>0</td>\n",
       "      <td>0</td>\n",
       "    </tr>\n",
       "    <tr>\n",
       "      <th>21987</th>\n",
       "      <td>felidae adalah familia mamalia yang berevolusi...</td>\n",
       "      <td>0</td>\n",
       "      <td>0</td>\n",
       "      <td>1</td>\n",
       "      <td>0</td>\n",
       "      <td>0</td>\n",
       "    </tr>\n",
       "  </tbody>\n",
       "</table>\n",
       "<p>5000 rows × 6 columns</p>\n",
       "</div>"
      ],
      "text/plain": [
       "                                                    Text  ...  Spanish\n",
       "37     in  johnson was awarded an american institute ...  ...        0\n",
       "40     bussy-saint-georges has built its identity on ...  ...        0\n",
       "76     minnesotas state parks are spread across the s...  ...        0\n",
       "90     nordahl road is a station served by north coun...  ...        0\n",
       "97     a talk by takis fotopoulos about the internati...  ...        0\n",
       "...                                                  ...  ...      ...\n",
       "21906  walaupun pada mulanya berhasil menurunkan ting...  ...        0\n",
       "21912  namun dalam usia  hari akhirnya meninggal duni...  ...        0\n",
       "21922  dewan wali terlibat dalam proses legislasi den...  ...        0\n",
       "21954  ordo ekuestrian makam kudus yerusalem bahasa l...  ...        0\n",
       "21987  felidae adalah familia mamalia yang berevolusi...  ...        0\n",
       "\n",
       "[5000 rows x 6 columns]"
      ]
     },
     "execution_count": 95,
     "metadata": {
      "tags": []
     },
     "output_type": "execute_result"
    }
   ],
   "source": [
    "# proses one-hot-encoding\n",
    "\n",
    "category = pd.get_dummies(df.language)\n",
    "df_baru = pd.concat([df, category], axis=1)\n",
    "df_baru = df_baru.drop(columns='language')\n",
    "df_baru"
   ]
  },
  {
   "cell_type": "code",
   "execution_count": null,
   "metadata": {
    "colab": {},
    "colab_type": "code",
    "id": "V4zywkX9ipXM"
   },
   "outputs": [],
   "source": [
    "# mengubah nilai-nilai dari dataframe ke dalam tipe data numpy array menggunakan atribut values.\n",
    "\n",
    "teks = df_baru['Text'].values\n",
    "label = df_baru[['English', 'French', 'Indonesian', 'Portugese', 'Spanish']].values"
   ]
  },
  {
   "cell_type": "code",
   "execution_count": null,
   "metadata": {
    "colab": {},
    "colab_type": "code",
    "id": "vBiN-UZAjDTj"
   },
   "outputs": [],
   "source": [
    "# membagi data untuk training dan data untuk testing.\n",
    "\n",
    "from sklearn.model_selection import train_test_split\n",
    "\n",
    "teks_latih, teks_test, label_latih, label_test = train_test_split(teks, label, test_size=0.2)"
   ]
  },
  {
   "cell_type": "code",
   "execution_count": null,
   "metadata": {
    "colab": {},
    "colab_type": "code",
    "id": "IuY9A521jS7k"
   },
   "outputs": [],
   "source": [
    "# tokenisasi dan padding\n",
    "\n",
    "from tensorflow.keras.preprocessing.text import Tokenizer\n",
    "from tensorflow.keras.preprocessing.sequence import pad_sequences\n",
    " \n",
    "tokenizer = Tokenizer(num_words=5000, oov_token='x')\n",
    "tokenizer.fit_on_texts(teks_latih) \n",
    "tokenizer.fit_on_texts(teks_test)\n",
    " \n",
    "sekuens_latih = tokenizer.texts_to_sequences(teks_latih)\n",
    "sekuens_test = tokenizer.texts_to_sequences(teks_test)\n",
    " \n",
    "padded_latih = pad_sequences(sekuens_latih) \n",
    "padded_test = pad_sequences(sekuens_test)"
   ]
  },
  {
   "cell_type": "code",
   "execution_count": null,
   "metadata": {
    "colab": {},
    "colab_type": "code",
    "id": "RIcr3CDLju5U"
   },
   "outputs": [],
   "source": [
    "# menetukan layer dan compile\n",
    "\n",
    "import tensorflow as tf\n",
    "\n",
    "model = tf.keras.Sequential([\n",
    "    tf.keras.layers.Embedding(input_dim=5000, output_dim=16),\n",
    "    tf.keras.layers.LSTM(64),\n",
    "    tf.keras.layers.Dense(128, activation='relu'),\n",
    "    tf.keras.layers.Dense(64, activation='relu'),\n",
    "    tf.keras.layers.Dense(5, activation='softmax')\n",
    "])\n",
    "\n",
    "model.compile(loss=tf.keras.losses.KLDivergence(), optimizer=tf.keras.optimizers.RMSprop(), metrics=['accuracy'])"
   ]
  },
  {
   "cell_type": "code",
   "execution_count": null,
   "metadata": {
    "colab": {
     "base_uri": "https://localhost:8080/",
     "height": 1000
    },
    "colab_type": "code",
    "id": "YFiuqglhnw3A",
    "outputId": "4a24b6c7-0da1-4303-fd5b-9118f102963f"
   },
   "outputs": [
    {
     "name": "stdout",
     "output_type": "stream",
     "text": [
      "Epoch 1/30\n",
      "125/125 - 13s - loss: 1.0847 - accuracy: 0.5045 - val_loss: 0.5586 - val_accuracy: 0.7710\n",
      "Epoch 2/30\n",
      "125/125 - 14s - loss: 0.3664 - accuracy: 0.8440 - val_loss: 0.1508 - val_accuracy: 0.9700\n",
      "Epoch 3/30\n",
      "125/125 - 14s - loss: 0.1252 - accuracy: 0.9645 - val_loss: 0.0758 - val_accuracy: 0.9750\n",
      "Epoch 4/30\n",
      "125/125 - 14s - loss: 0.0801 - accuracy: 0.9787 - val_loss: 0.0539 - val_accuracy: 0.9830\n",
      "Epoch 5/30\n",
      "125/125 - 14s - loss: 0.0642 - accuracy: 0.9860 - val_loss: 0.0511 - val_accuracy: 0.9820\n",
      "Epoch 6/30\n",
      "125/125 - 15s - loss: 0.0383 - accuracy: 0.9880 - val_loss: 0.0330 - val_accuracy: 0.9890\n",
      "Epoch 7/30\n",
      "125/125 - 14s - loss: 0.0347 - accuracy: 0.9900 - val_loss: 0.0407 - val_accuracy: 0.9840\n",
      "Epoch 8/30\n",
      "125/125 - 14s - loss: 0.0259 - accuracy: 0.9930 - val_loss: 0.0515 - val_accuracy: 0.9810\n",
      "Epoch 9/30\n",
      "125/125 - 14s - loss: 0.0274 - accuracy: 0.9930 - val_loss: 0.0424 - val_accuracy: 0.9870\n",
      "Epoch 10/30\n",
      "125/125 - 14s - loss: 0.0177 - accuracy: 0.9945 - val_loss: 0.0430 - val_accuracy: 0.9910\n",
      "Epoch 11/30\n",
      "125/125 - 14s - loss: 0.0157 - accuracy: 0.9958 - val_loss: 0.0466 - val_accuracy: 0.9860\n",
      "Epoch 12/30\n",
      "125/125 - 14s - loss: 0.0155 - accuracy: 0.9960 - val_loss: 0.0402 - val_accuracy: 0.9870\n",
      "Epoch 13/30\n",
      "125/125 - 14s - loss: 0.0188 - accuracy: 0.9970 - val_loss: 0.0503 - val_accuracy: 0.9880\n",
      "Epoch 14/30\n",
      "125/125 - 14s - loss: 0.0125 - accuracy: 0.9983 - val_loss: 0.0429 - val_accuracy: 0.9900\n",
      "Epoch 15/30\n",
      "125/125 - 14s - loss: 0.0091 - accuracy: 0.9983 - val_loss: 0.0528 - val_accuracy: 0.9850\n",
      "Epoch 16/30\n",
      "125/125 - 14s - loss: 0.0093 - accuracy: 0.9983 - val_loss: 0.0791 - val_accuracy: 0.9880\n",
      "Epoch 17/30\n",
      "125/125 - 14s - loss: 0.0345 - accuracy: 0.9965 - val_loss: 0.0590 - val_accuracy: 0.9880\n",
      "Epoch 18/30\n",
      "125/125 - 14s - loss: 0.0066 - accuracy: 0.9990 - val_loss: 0.0419 - val_accuracy: 0.9910\n",
      "Epoch 19/30\n",
      "125/125 - 14s - loss: 0.0083 - accuracy: 0.9990 - val_loss: 0.0529 - val_accuracy: 0.9900\n",
      "Epoch 20/30\n",
      "125/125 - 14s - loss: 0.0098 - accuracy: 0.9987 - val_loss: 0.0358 - val_accuracy: 0.9950\n",
      "Epoch 21/30\n",
      "125/125 - 14s - loss: 0.0070 - accuracy: 0.9995 - val_loss: 0.0633 - val_accuracy: 0.9930\n",
      "Epoch 22/30\n",
      "125/125 - 14s - loss: 0.0073 - accuracy: 0.9985 - val_loss: 0.1143 - val_accuracy: 0.9900\n",
      "Epoch 23/30\n",
      "125/125 - 14s - loss: 0.0055 - accuracy: 0.9990 - val_loss: 0.0739 - val_accuracy: 0.9910\n",
      "Epoch 24/30\n",
      "125/125 - 14s - loss: 0.0053 - accuracy: 0.9992 - val_loss: 0.0866 - val_accuracy: 0.9880\n",
      "Epoch 25/30\n",
      "125/125 - 14s - loss: 0.0045 - accuracy: 0.9995 - val_loss: 0.0900 - val_accuracy: 0.9890\n",
      "Epoch 26/30\n",
      "125/125 - 14s - loss: 0.0076 - accuracy: 0.9992 - val_loss: 0.0967 - val_accuracy: 0.9890\n",
      "Epoch 27/30\n",
      "125/125 - 14s - loss: 0.0045 - accuracy: 0.9995 - val_loss: 0.0869 - val_accuracy: 0.9910\n",
      "Epoch 28/30\n",
      "125/125 - 14s - loss: 0.0095 - accuracy: 0.9990 - val_loss: 0.0911 - val_accuracy: 0.9920\n",
      "Epoch 29/30\n",
      "125/125 - 14s - loss: 0.0171 - accuracy: 0.9985 - val_loss: 0.1046 - val_accuracy: 0.9900\n",
      "Epoch 30/30\n",
      "125/125 - 14s - loss: 0.0040 - accuracy: 0.9998 - val_loss: 0.0962 - val_accuracy: 0.9900\n"
     ]
    }
   ],
   "source": [
    "# melatih model\n",
    "\n",
    "num_epochs = 30\n",
    "history = model.fit(padded_latih, label_latih, \n",
    "                    epochs=num_epochs, \n",
    "                    validation_data=(padded_test, label_test), \n",
    "                    verbose=2)"
   ]
  },
  {
   "cell_type": "code",
   "execution_count": null,
   "metadata": {
    "colab": {
     "base_uri": "https://localhost:8080/",
     "height": 499
    },
    "colab_type": "code",
    "id": "ocaG5TTgyVMi",
    "outputId": "ae3e18c8-bd8a-4045-863d-ab6a950629bc"
   },
   "outputs": [
    {
     "data": {
      "image/png": "[encoded data removed]",
      "text/plain": [
       "<Figure size 1152x576 with 2 Axes>"
      ]
     },
     "metadata": {
      "needs_background": "light",
      "tags": []
     },
     "output_type": "display_data"
    }
   ],
   "source": [
    "# membuat plot loss dan accuracy\n",
    "\n",
    "import numpy as np\n",
    "import matplotlib.pyplot as plt\n",
    "\n",
    "acc = history.history['accuracy']\n",
    "val_acc = history.history['val_accuracy']\n",
    "\n",
    "loss = history.history['loss']\n",
    "val_loss = history.history['val_loss']\n",
    "\n",
    "range = range(30)\n",
    "\n",
    "plt.figure(figsize=(16, 8))\n",
    "plt.subplot(1, 2, 1)\n",
    "plt.plot(range, acc, label='Train Accuracy')\n",
    "plt.plot(range, val_acc, label='Validation Accuracy')\n",
    "plt.legend(loc='lower right')\n",
    "plt.title('Train and Validation Accuracy')\n",
    "\n",
    "plt.subplot(1, 2, 2)\n",
    "plt.plot(range, loss, label='Train Loss')\n",
    "plt.plot(range, val_loss, label='Validation Loss')\n",
    "plt.legend(loc='upper right')\n",
    "plt.title('Train and Validation Loss')\n",
    "plt.show()"
   ]
  },
  {
   "cell_type": "code",
   "execution_count": null,
   "metadata": {
    "colab": {},
    "colab_type": "code",
    "id": "nwDYyPN32hiV"
   },
   "outputs": [],
   "source": []
  }
 ],
 "metadata": {
  "colab": {
   "collapsed_sections": [],
   "name": "submission_1_dicoding_Belajar_Pengembangan_Machine_Learning.ipynb",
   "provenance": []
  },
  "kernelspec": {
   "display_name": "Python 3",
   "language": "python",
   "name": "python3"
  },
  "language_info": {
   "codemirror_mode": {
    "name": "ipython",
    "version": 3
   },
   "file_extension": ".py",
   "mimetype": "text/x-python",
   "name": "python",
   "nbconvert_exporter": "python",
   "pygments_lexer": "ipython3",
   "version": "3.7.6"
  }
 },
 "nbformat": 4,
 "nbformat_minor": 1
}
